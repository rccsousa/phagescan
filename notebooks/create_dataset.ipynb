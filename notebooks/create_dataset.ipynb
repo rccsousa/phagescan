{
 "cells": [
  {
   "cell_type": "code",
   "execution_count": null,
   "metadata": {},
   "outputs": [],
   "source": [
    "# !pip install requests --quiet\n"
   ]
  },
  {
   "cell_type": "code",
   "execution_count": 4,
   "metadata": {},
   "outputs": [],
   "source": [
    "# Importar scripts auxiliares\n",
    "import os\n",
    "import sys\n",
    "\n",
    "\n",
    "cwd = os.getcwd()\n",
    "parent = os.path.dirname(cwd)\n",
    "scripts = os.path.join(parent, 'scripts')\n",
    "\n",
    "sys.path.append(scripts)\n",
    "\n",
    "from webscrap import *"
   ]
  },
  {
   "cell_type": "code",
   "execution_count": 6,
   "metadata": {},
   "outputs": [],
   "source": [
    "uri = \"https://phagesdb.org/api/phages/\"\n",
    "\n",
    "phages = fetcher(uri, json = True)"
   ]
  },
  {
   "cell_type": "code",
   "execution_count": 14,
   "metadata": {},
   "outputs": [],
   "source": [
    "# Isolate morphotypes\n",
    "\n",
    "def phage_filter(data, morphotype):\n",
    "    \"\"\"\n",
    "    Made for using with fetcher(\"https://phagesdb.org/api/phages/\")\n",
    "    \n",
    "    Filters phages based on morphotype 'sipho' and adds 'plaque_file' if it exists.\n",
    "\n",
    "    Args:\n",
    "        data (dict): Dictionary containing phage data.\n",
    "\n",
    "    Returns:\n",
    "        list: List of dictionaries containing filtered phage data.\n",
    "    \"\"\"\n",
    "    morphotype = morphotype.upper()\n",
    "    phages = data['results']\n",
    "    res = []\n",
    "    for phage in phages:\n",
    "        if phage.get('morphotype') == morphotype and phage.get('em_file'):  \n",
    "            # Filter by morphotype sipho and check if 'em_file' exists\n",
    "            phage_data = {\n",
    "                'phage_name': phage.get('phage_name', ''),\n",
    "                'morphotype': phage.get('morphotype', ''),\n",
    "                'genome_length': phage.get('genome_length', ''),\n",
    "                'gcpercent': phage.get('gcpercent', ''),\n",
    "                'host_species': phage.get('host_species', ''),\n",
    "                'host_genus': phage.get('host_genus', ''),\n",
    "                'genbank_accession': phage.get('genbank_accession', ''),\n",
    "                'plaque_file': phage.get('plaque_file', ''),\n",
    "                'em_file': phage.get('em_file', ''),\n",
    "                'fasta_file': phage.get('fasta_file', '')\n",
    "            }\n",
    "            res.append(phage_data)\n",
    "    return res\n",
    "\n",
    "siphovirus = phage_filter(phages, 'SIPHO')\n",
    "myovirus = phage_filter(phages, 'MYO')\n",
    "podovirus = phage_filter(phages, 'PODO')\n",
    "tecti = phage_filter(phages, 'TECTI')"
   ]
  },
  {
   "cell_type": "code",
   "execution_count": 12,
   "metadata": {},
   "outputs": [],
   "source": [
    "# Criar pasta de dataset\n",
    "data_dir = os.path.join(parent,'dataset')\n",
    "os.makedirs(data_dir, exist_ok = True)\n",
    "\n",
    "# Criar pasta para cada morphotype\n",
    "morphotypes = ['myo', 'podo', 'sipho', 'tecti']\n",
    "\n",
    "for morphotype in morphotypes:\n",
    "    morphotype_dir = os.path.join(data_dir, morphotype)\n",
    "    em_pics_dir = os.path.join(morphotype_dir, 'em_pics')\n",
    "    os.makedirs(morphotype_dir, exist_ok=True)\n",
    "    os.makedirs(em_pics_dir, exist_ok=True)\n",
    "\n",
    "# Criar os caminhos\n",
    "myo_dir      = os.path.join(data_dir, r'myo\\em_pics')\n",
    "podo_dir     = os.path.join(data_dir, r'podo\\em_pics')\n",
    "sipho_dir    = os.path.join(data_dir, r'sipho\\em_pics')\n",
    "tecti_dir    = os.path.join(data_dir, r'tecti\\em_pics')"
   ]
  },
  {
   "cell_type": "code",
   "execution_count": 19,
   "metadata": {},
   "outputs": [
    {
     "name": "stdout",
     "output_type": "stream",
     "text": [
      "g:\\dev\\phagescan_priv\n"
     ]
    },
    {
     "name": "stderr",
     "output_type": "stream",
     "text": [
      "c:\\Users\\rsous\\AppData\\Local\\Programs\\Python\\Python312\\Lib\\site-packages\\IPython\\core\\magics\\osm.py:417: UserWarning: This is now an optional IPython functionality, setting dhist requires you to install the `pickleshare` library.\n",
      "  self.shell.db['dhist'] = compress_dhist(dhist)[-100:]\n"
     ]
    },
    {
     "name": "stdout",
     "output_type": "stream",
     "text": [
      "g:\\dev\\phagescan_priv\\dataset\n"
     ]
    },
    {
     "name": "stderr",
     "output_type": "stream",
     "text": [
      "A subdirectory or file dataset already exists.\n"
     ]
    }
   ],
   "source": [
    "# Download EM Files\n",
    "import time\n",
    "\n",
    "# Get myo\n",
    "os.chdir(myo_dir)\n",
    "for myo in myovirus:\n",
    "    if myo['em_file']:\n",
    "        downloader(myo['em_file'])\n",
    "    time.sleep(2)\n",
    "\n",
    "# Get podo\n",
    "os.chdir(podo_dir)\n",
    "for podo in podovirus:\n",
    "    if podo['em_file']:\n",
    "        downloader(podo['em_file'])\n",
    "    time.sleep(2)\n",
    "    \n",
    "# Get sipho\n",
    "os.chdir(sipho_dir)\n",
    "for sipho in siphovirus:\n",
    "    if sipho['em_file']:\n",
    "        downloader(sipho['em_file'])\n",
    "    time.sleep(2)\n",
    "\n",
    "# Get tecti\n",
    "os.chdir(tecti)\n",
    "for _ in tecti:\n",
    "    if podo['em_file']:\n",
    "        downloader(_['em_file'])\n",
    "    time.sleep(2)"
   ]
  }
 ],
 "metadata": {
  "kernelspec": {
   "display_name": "Python 3",
   "language": "python",
   "name": "python3"
  },
  "language_info": {
   "codemirror_mode": {
    "name": "ipython",
    "version": 3
   },
   "file_extension": ".py",
   "mimetype": "text/x-python",
   "name": "python",
   "nbconvert_exporter": "python",
   "pygments_lexer": "ipython3",
   "version": "3.12.2"
  }
 },
 "nbformat": 4,
 "nbformat_minor": 2
}
