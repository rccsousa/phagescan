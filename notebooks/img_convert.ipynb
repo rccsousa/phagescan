{
 "cells": [
  {
   "cell_type": "code",
   "execution_count": 2,
   "metadata": {},
   "outputs": [],
   "source": [
    "# Importar scripts auxiliares\n",
    "import os\n",
    "import sys\n",
    "\n",
    "cwd = os.getcwd()\n",
    "parent = os.path.dirname(cwd)\n",
    "scripts = os.path.join(parent, 'scripts')\n",
    "\n",
    "sys.path.append(scripts)\n",
    "\n",
    "import convert_to_png"
   ]
  },
  {
   "cell_type": "code",
   "execution_count": 21,
   "metadata": {},
   "outputs": [],
   "source": [
    "# Converter imagens\n",
    "\n",
    "data_dir     = os.path.join(parent, 'dataset')\n",
    "myo_dir      = os.path.join(data_dir, r'myo\\em_pics')\n",
    "podo_dir     = os.path.join(data_dir, r'podo\\em_pics')\n",
    "sipho_dir    = os.path.join(data_dir, r'sipho\\em_pics')\n",
    "tecti_dir    = os.path.join(data_dir, r'tecti\\em_pics')\n",
    "convert_dirs = [myo_dir, podo_dir, sipho_dir, tecti_dir]\n",
    "\n",
    "for dir in convert_dirs:\n",
    "    os.chdir(dir)\n",
    "    convert_to_png\n"
   ]
  }
 ],
 "metadata": {
  "kernelspec": {
   "display_name": "Python 3",
   "language": "python",
   "name": "python3"
  },
  "language_info": {
   "codemirror_mode": {
    "name": "ipython",
    "version": 3
   },
   "file_extension": ".py",
   "mimetype": "text/x-python",
   "name": "python",
   "nbconvert_exporter": "python",
   "pygments_lexer": "ipython3",
   "version": "3.12.2"
  }
 },
 "nbformat": 4,
 "nbformat_minor": 2
}
