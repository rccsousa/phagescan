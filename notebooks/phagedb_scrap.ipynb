{
 "cells": [
  {
   "cell_type": "code",
   "execution_count": 1,
   "metadata": {},
   "outputs": [],
   "source": [
    "import sys\n",
    "\n",
    "sys.path.append('../scripts')\n",
    "\n",
    "from webscrap import *"
   ]
  },
  {
   "cell_type": "code",
   "execution_count": 7,
   "metadata": {},
   "outputs": [],
   "source": [
    "uri = \"https://phagesdb.org/api/phages/\"\n",
    "\n",
    "phages = fetcher(uri, json = True)\n",
    "\n",
    "# Isolate only siphoviruses with TEM images\n",
    "\n",
    "def phage_filter(data, morphotype = 'sipho'):\n",
    "    \"\"\"\n",
    "    Made for using with fetcher(\"https://phagesdb.org/api/phages/\")\n",
    "    \n",
    "    Filters phages based on morphotype 'sipho' and adds 'plaque_file' if it exists.\n",
    "\n",
    "    Args:\n",
    "        data (dict): Dictionary containing phage data.\n",
    "\n",
    "    Returns:\n",
    "        list: List of dictionaries containing filtered phage data.\n",
    "    \"\"\"\n",
    "    phages = data['results']\n",
    "    res = []\n",
    "    for phage in phages:\n",
    "        if phage.get('morphotype', '').lower() == morphotype and phage.get('em_file'):  \n",
    "            # Filter by morphotype sipho and check if 'em_file' exists\n",
    "            phage_data = {\n",
    "                'phage_name': phage.get('phage_name', ''),\n",
    "                'morphotype': phage.get('morphotype', ''),\n",
    "                'genome_length': phage.get('genome_length', ''),\n",
    "                'gcpercent': phage.get('gcpercent', ''),\n",
    "                'host_species': phage.get('host_species', ''),\n",
    "                'host_genus': phage.get('host_genus', ''),\n",
    "                'genbank_accession': phage.get('genbank_accession', ''),\n",
    "                'plaque_file': phage.get('plaque_file', ''),\n",
    "                'em_file': phage.get('em_file', ''),\n",
    "                'fasta_file': phage.get('fasta_file', '')\n",
    "            }\n",
    "            res.append(phage_data)\n",
    "    return res\n",
    "\n",
    "siphovirus = phage_filter(phages)"
   ]
  },
  {
   "cell_type": "code",
   "execution_count": 19,
   "metadata": {},
   "outputs": [
    {
     "name": "stdout",
     "output_type": "stream",
     "text": [
      "g:\\dev\\phagescan_priv\n"
     ]
    },
    {
     "name": "stderr",
     "output_type": "stream",
     "text": [
      "c:\\Users\\rsous\\AppData\\Local\\Programs\\Python\\Python312\\Lib\\site-packages\\IPython\\core\\magics\\osm.py:417: UserWarning: This is now an optional IPython functionality, setting dhist requires you to install the `pickleshare` library.\n",
      "  self.shell.db['dhist'] = compress_dhist(dhist)[-100:]\n"
     ]
    },
    {
     "name": "stdout",
     "output_type": "stream",
     "text": [
      "g:\\dev\\phagescan_priv\\dataset\n"
     ]
    },
    {
     "name": "stderr",
     "output_type": "stream",
     "text": [
      "A subdirectory or file dataset already exists.\n"
     ]
    }
   ],
   "source": [
    "%cd ../\n",
    "%mkdir dataset\n",
    "%cd dataset\n",
    "%mkdir em_pics\n",
    "%mkdir plaque_pics"
   ]
  },
  {
   "cell_type": "code",
   "execution_count": 28,
   "metadata": {},
   "outputs": [
    {
     "name": "stderr",
     "output_type": "stream",
     "text": [
      "c:\\Users\\rsous\\AppData\\Local\\Programs\\Python\\Python312\\Lib\\site-packages\\IPython\\core\\magics\\osm.py:417: UserWarning: This is now an optional IPython functionality, setting dhist requires you to install the `pickleshare` library.\n",
      "  self.shell.db['dhist'] = compress_dhist(dhist)[-100:]\n"
     ]
    },
    {
     "name": "stdout",
     "output_type": "stream",
     "text": [
      "g:\\dev\\phagescan_priv\\dataset\\em_pics\n"
     ]
    }
   ],
   "source": [
    "%cd ./dataset/em_pics/\n",
    "\n",
    "import time \n",
    "\n",
    "# Download EM Files\n",
    "\n",
    "for sipho in siphovirus:\n",
    "    if sipho['em_file']:\n",
    "        downloader(sipho['em_file'])\n",
    "    time.sleep(2)\n"
   ]
  },
  {
   "cell_type": "code",
   "execution_count": null,
   "metadata": {},
   "outputs": [],
   "source": [
    "\"\"\"\n",
    "Removido por imagens não terem grande utilidade\n",
    "\n",
    "%cd ../\n",
    "%cd ./plaque_pics\n",
    "\n",
    "for sipho in siphovirus:\n",
    "    if sipho['plaque_file']:\n",
    "        downloader(sipho['plaque_file'])\n",
    "    time.sleep(2)\n",
    "\"\"\""
   ]
  }
 ],
 "metadata": {
  "kernelspec": {
   "display_name": "Python 3",
   "language": "python",
   "name": "python3"
  },
  "language_info": {
   "codemirror_mode": {
    "name": "ipython",
    "version": 3
   },
   "file_extension": ".py",
   "mimetype": "text/x-python",
   "name": "python",
   "nbconvert_exporter": "python",
   "pygments_lexer": "ipython3",
   "version": "3.12.2"
  }
 },
 "nbformat": 4,
 "nbformat_minor": 2
}
